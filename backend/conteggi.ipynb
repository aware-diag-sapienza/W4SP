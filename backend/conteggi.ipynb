{
 "cells": [
  {
   "cell_type": "code",
   "execution_count": 1,
   "metadata": {},
   "outputs": [
    {
     "name": "stdout",
     "output_type": "stream",
     "text": [
      "4D -> 3D 0.95\n",
      "4D -> 2D 0.9975\n",
      "4D -> 1D 0.9999\n",
      "3D -> 2D 0.95\n",
      "3D -> 1D 0.9975\n",
      "2D -> 1D 0.95\n"
     ]
    }
   ],
   "source": [
    "N = 8\n",
    "K = 20\n",
    "\n",
    "MIN_ORDER = 1\n",
    "MAX_ORDER = 4\n",
    "\n",
    "######################################################\n",
    "\n",
    "cognitiveReduction = {}\n",
    "\n",
    "\"\"\" COGNITIVE REDUCTION \"\"\"\n",
    "for i in list(range(2, MAX_ORDER+1))[::-1]:\n",
    "    for j in list(range(1, MAX_ORDER))[::-1]:\n",
    "        if j>= i: continue\n",
    "        r = round((pow(K,i) - pow(K,j)) / pow(K,i), 4)\n",
    "        key = f'{i}D -> {j}D'\n",
    "        print(key, r)\n",
    "        cognitiveReduction[key] = r\n",
    "\n"
   ]
  },
  {
   "cell_type": "code",
   "execution_count": 22,
   "metadata": {},
   "outputs": [
    {
     "name": "stdout",
     "output_type": "stream",
     "text": [
      "4D 70\n",
      "3D 56\n",
      "2D 28\n",
      "1D 8\n"
     ]
    }
   ],
   "source": [
    "\"\"\" NUMBER OF PDP \"\"\"\n",
    "\n",
    "import math\n",
    "for i in list(range(1, MAX_ORDER+1))[::-1]:\n",
    "    pdp = math.comb(N, i)\n",
    "    print(f'{i}D {pdp}')"
   ]
  },
  {
   "cell_type": "code",
   "execution_count": 23,
   "metadata": {},
   "outputs": [
    {
     "name": "stdout",
     "output_type": "stream",
     "text": [
      "4D -> 3D 280\n",
      "4D -> 2D 420\n",
      "4D -> 1D 280\n",
      "3D -> 2D 168\n",
      "3D -> 1D 168\n",
      "2D -> 1D 56\n"
     ]
    }
   ],
   "source": [
    "\"\"\" NUMBER OF PROJECTIONS \"\"\"\n",
    "\n",
    "import math\n",
    "for i in list(range(2, MAX_ORDER+1))[::-1]:\n",
    "    for j in list(range(1, MAX_ORDER))[::-1]:\n",
    "        if j>= i: continue\n",
    "        pdp = math.comb(N, i)\n",
    "        proj = pdp * math.comb(i, j)\n",
    "        print(f'{i}D -> {j}D', proj)"
   ]
  }
 ],
 "metadata": {
  "kernelspec": {
   "display_name": "Python 3.11.0 64-bit",
   "language": "python",
   "name": "python3"
  },
  "language_info": {
   "codemirror_mode": {
    "name": "ipython",
    "version": 3
   },
   "file_extension": ".py",
   "mimetype": "text/x-python",
   "name": "python",
   "nbconvert_exporter": "python",
   "pygments_lexer": "ipython3",
   "version": "3.11.0"
  },
  "orig_nbformat": 4,
  "vscode": {
   "interpreter": {
    "hash": "1a1af0ee75eeea9e2e1ee996c87e7a2b11a0bebd85af04bb136d915cefc0abce"
   }
  }
 },
 "nbformat": 4,
 "nbformat_minor": 2
}
